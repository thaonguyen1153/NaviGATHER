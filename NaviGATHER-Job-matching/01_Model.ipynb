{
 "cells": [
  {
   "cell_type": "markdown",
   "metadata": {},
   "source": [
    "## Resume - Job Matching using Doc2Vec"
   ]
  },
  {
   "cell_type": "markdown",
   "metadata": {},
   "source": [
    "### Introduction\n",
    "\n",
    "Using Doc2Vec"
   ]
  },
  {
   "cell_type": "markdown",
   "metadata": {},
   "source": [
    "### Model\n",
    "#### 1. Set up - Do Once to build model"
   ]
  },
  {
   "cell_type": "code",
   "execution_count": 6,
   "metadata": {
    "id": "YDFUjQi3S171"
   },
   "outputs": [],
   "source": [
    "## Install all dependencies\n",
    "# !pip install gensim\n",
    "# !pip install nltk\n",
    "# !pip install pandas\n",
    "# !pip install numpy\n",
    "# !pip install requests\n",
    "#!pip install PyPDF2"
   ]
  },
  {
   "cell_type": "code",
   "execution_count": 1,
   "metadata": {
    "id": "kpZnVCxZSQ8a"
   },
   "outputs": [],
   "source": [
    "# Import libraries\n",
    "from gensim.models.doc2vec import Doc2Vec, TaggedDocument\n",
    "from nltk.tokenize import word_tokenize\n",
    "from numpy.linalg import norm\n",
    "from termcolor import colored\n",
    "import pandas as pd\n",
    "import numpy as np\n",
    "import requests\n",
    "import PyPDF2\n",
    "import re\n",
    "import plotly.graph_objects as go\n",
    "import nltk\n",
    "# nltk.download('punktab')"
   ]
  },
  {
   "cell_type": "markdown",
   "metadata": {},
   "source": [
    "#### 2. Prepare data\n",
    "This dataset that we trained our model contains current job postings available on the City of New York’s official jobs site in 2020. You can follow this link to download: \n",
    "[New York Job Posting Dataset](https://data.world/city-of-ny/kpav-sd4t)"
   ]
  },
  {
   "cell_type": "code",
   "execution_count": 2,
   "metadata": {
    "colab": {
     "base_uri": "https://localhost:8080/",
     "height": 182
    },
    "id": "5CoVK6-iSWsU",
    "outputId": "20a60cf2-8224-47a2-d43c-b20d351db269"
   },
   "outputs": [
    {
     "data": {
      "text/html": [
       "<div>\n",
       "<style scoped>\n",
       "    .dataframe tbody tr th:only-of-type {\n",
       "        vertical-align: middle;\n",
       "    }\n",
       "\n",
       "    .dataframe tbody tr th {\n",
       "        vertical-align: top;\n",
       "    }\n",
       "\n",
       "    .dataframe thead th {\n",
       "        text-align: right;\n",
       "    }\n",
       "</style>\n",
       "<table border=\"1\" class=\"dataframe\">\n",
       "  <thead>\n",
       "    <tr style=\"text-align: right;\">\n",
       "      <th></th>\n",
       "      <th>Job ID</th>\n",
       "      <th>Agency</th>\n",
       "      <th>Posting Type</th>\n",
       "      <th># Of Positions</th>\n",
       "      <th>Business Title</th>\n",
       "      <th>Civil Service Title</th>\n",
       "      <th>Title Code No</th>\n",
       "      <th>Level</th>\n",
       "      <th>Job Category</th>\n",
       "      <th>Full-Time/Part-Time indicator</th>\n",
       "      <th>...</th>\n",
       "      <th>Additional Information</th>\n",
       "      <th>To Apply</th>\n",
       "      <th>Hours/Shift</th>\n",
       "      <th>Work Location 1</th>\n",
       "      <th>Recruitment Contact</th>\n",
       "      <th>Residency Requirement</th>\n",
       "      <th>Posting Date</th>\n",
       "      <th>Post Until</th>\n",
       "      <th>Posting Updated</th>\n",
       "      <th>Process Date</th>\n",
       "    </tr>\n",
       "  </thead>\n",
       "  <tbody>\n",
       "    <tr>\n",
       "      <th>0</th>\n",
       "      <td>87990</td>\n",
       "      <td>DEPARTMENT OF BUSINESS SERV.</td>\n",
       "      <td>Internal</td>\n",
       "      <td>1</td>\n",
       "      <td>Account Manager</td>\n",
       "      <td>CONTRACT REVIEWER (OFFICE OF L</td>\n",
       "      <td>40563</td>\n",
       "      <td>1</td>\n",
       "      <td></td>\n",
       "      <td></td>\n",
       "      <td>...</td>\n",
       "      <td>Salary range for this position is: $42,405 - $...</td>\n",
       "      <td></td>\n",
       "      <td></td>\n",
       "      <td></td>\n",
       "      <td>NaN</td>\n",
       "      <td>New York City residency is generally required ...</td>\n",
       "      <td>2011-06-24T00:00:00</td>\n",
       "      <td>NaN</td>\n",
       "      <td>2011-06-24T00:00:00</td>\n",
       "      <td>2018-07-17T00:00:00</td>\n",
       "    </tr>\n",
       "    <tr>\n",
       "      <th>1</th>\n",
       "      <td>97899</td>\n",
       "      <td>DEPARTMENT OF BUSINESS SERV.</td>\n",
       "      <td>Internal</td>\n",
       "      <td>1</td>\n",
       "      <td>EXECUTIVE DIRECTOR, BUSINESS DEVELOPMENT</td>\n",
       "      <td>ADMINISTRATIVE BUSINESS PROMOT</td>\n",
       "      <td>10009</td>\n",
       "      <td>M3</td>\n",
       "      <td></td>\n",
       "      <td>F</td>\n",
       "      <td>...</td>\n",
       "      <td></td>\n",
       "      <td>In addition to applying through this website, ...</td>\n",
       "      <td></td>\n",
       "      <td></td>\n",
       "      <td>NaN</td>\n",
       "      <td>New York City residency is generally required ...</td>\n",
       "      <td>2012-01-26T00:00:00</td>\n",
       "      <td>NaN</td>\n",
       "      <td>2012-01-26T00:00:00</td>\n",
       "      <td>2018-07-17T00:00:00</td>\n",
       "    </tr>\n",
       "    <tr>\n",
       "      <th>2</th>\n",
       "      <td>102221</td>\n",
       "      <td>DEPT OF ENVIRONMENT PROTECTION</td>\n",
       "      <td>External</td>\n",
       "      <td>1</td>\n",
       "      <td>Project Specialist</td>\n",
       "      <td>ENVIRONMENTAL ENGINEERING INTE</td>\n",
       "      <td>20616</td>\n",
       "      <td>0</td>\n",
       "      <td></td>\n",
       "      <td>F</td>\n",
       "      <td>...</td>\n",
       "      <td>Appointments are subject to OMB approval</td>\n",
       "      <td>click the apply now button</td>\n",
       "      <td>35 hours per week/day</td>\n",
       "      <td></td>\n",
       "      <td>NaN</td>\n",
       "      <td>New York City Residency is not required for th...</td>\n",
       "      <td>2012-06-21T00:00:00</td>\n",
       "      <td>NaN</td>\n",
       "      <td>2012-09-07T00:00:00</td>\n",
       "      <td>2018-07-17T00:00:00</td>\n",
       "    </tr>\n",
       "    <tr>\n",
       "      <th>3</th>\n",
       "      <td>102221</td>\n",
       "      <td>DEPT OF ENVIRONMENT PROTECTION</td>\n",
       "      <td>Internal</td>\n",
       "      <td>1</td>\n",
       "      <td>Project Specialist</td>\n",
       "      <td>ENVIRONMENTAL ENGINEERING INTE</td>\n",
       "      <td>20616</td>\n",
       "      <td>0</td>\n",
       "      <td></td>\n",
       "      <td>F</td>\n",
       "      <td>...</td>\n",
       "      <td>Appointments are subject to OMB approval</td>\n",
       "      <td>click the apply now button</td>\n",
       "      <td>35 hours per week/day</td>\n",
       "      <td></td>\n",
       "      <td>NaN</td>\n",
       "      <td>New York City Residency is not required for th...</td>\n",
       "      <td>2012-06-21T00:00:00</td>\n",
       "      <td>NaN</td>\n",
       "      <td>2012-09-07T00:00:00</td>\n",
       "      <td>2018-07-17T00:00:00</td>\n",
       "    </tr>\n",
       "    <tr>\n",
       "      <th>4</th>\n",
       "      <td>114352</td>\n",
       "      <td>DEPT OF ENVIRONMENT PROTECTION</td>\n",
       "      <td>Internal</td>\n",
       "      <td>5</td>\n",
       "      <td>Deputy Plant Chief</td>\n",
       "      <td>SENIOR STATIONARY ENGINEER (EL</td>\n",
       "      <td>91639</td>\n",
       "      <td>0</td>\n",
       "      <td></td>\n",
       "      <td>F</td>\n",
       "      <td>...</td>\n",
       "      <td>Appointments are subject to OMB approval    Fo...</td>\n",
       "      <td>Click \"Apply Now\" button</td>\n",
       "      <td>40 per week / day</td>\n",
       "      <td>Various</td>\n",
       "      <td>NaN</td>\n",
       "      <td>New York City residency is generally required ...</td>\n",
       "      <td>2012-12-12T00:00:00</td>\n",
       "      <td>NaN</td>\n",
       "      <td>2012-12-13T00:00:00</td>\n",
       "      <td>2018-07-17T00:00:00</td>\n",
       "    </tr>\n",
       "  </tbody>\n",
       "</table>\n",
       "<p>5 rows × 28 columns</p>\n",
       "</div>"
      ],
      "text/plain": [
       "   Job ID                          Agency Posting Type  # Of Positions  \\\n",
       "0   87990    DEPARTMENT OF BUSINESS SERV.     Internal               1   \n",
       "1   97899    DEPARTMENT OF BUSINESS SERV.     Internal               1   \n",
       "2  102221  DEPT OF ENVIRONMENT PROTECTION     External               1   \n",
       "3  102221  DEPT OF ENVIRONMENT PROTECTION     Internal               1   \n",
       "4  114352  DEPT OF ENVIRONMENT PROTECTION     Internal               5   \n",
       "\n",
       "                             Business Title             Civil Service Title  \\\n",
       "0                           Account Manager  CONTRACT REVIEWER (OFFICE OF L   \n",
       "1  EXECUTIVE DIRECTOR, BUSINESS DEVELOPMENT  ADMINISTRATIVE BUSINESS PROMOT   \n",
       "2                        Project Specialist  ENVIRONMENTAL ENGINEERING INTE   \n",
       "3                        Project Specialist  ENVIRONMENTAL ENGINEERING INTE   \n",
       "4                        Deputy Plant Chief  SENIOR STATIONARY ENGINEER (EL   \n",
       "\n",
       "  Title Code No Level Job Category Full-Time/Part-Time indicator  ...  \\\n",
       "0         40563     1                                             ...   \n",
       "1         10009    M3                                          F  ...   \n",
       "2         20616     0                                          F  ...   \n",
       "3         20616     0                                          F  ...   \n",
       "4         91639     0                                          F  ...   \n",
       "\n",
       "                              Additional Information  \\\n",
       "0  Salary range for this position is: $42,405 - $...   \n",
       "1                                                      \n",
       "2           Appointments are subject to OMB approval   \n",
       "3           Appointments are subject to OMB approval   \n",
       "4  Appointments are subject to OMB approval    Fo...   \n",
       "\n",
       "                                            To Apply            Hours/Shift  \\\n",
       "0                                                                             \n",
       "1  In addition to applying through this website, ...                          \n",
       "2                         click the apply now button  35 hours per week/day   \n",
       "3                         click the apply now button  35 hours per week/day   \n",
       "4                           Click \"Apply Now\" button      40 per week / day   \n",
       "\n",
       "  Work Location 1 Recruitment Contact  \\\n",
       "0                                 NaN   \n",
       "1                                 NaN   \n",
       "2                                 NaN   \n",
       "3                                 NaN   \n",
       "4         Various                 NaN   \n",
       "\n",
       "                               Residency Requirement         Posting Date  \\\n",
       "0  New York City residency is generally required ...  2011-06-24T00:00:00   \n",
       "1  New York City residency is generally required ...  2012-01-26T00:00:00   \n",
       "2  New York City Residency is not required for th...  2012-06-21T00:00:00   \n",
       "3  New York City Residency is not required for th...  2012-06-21T00:00:00   \n",
       "4  New York City residency is generally required ...  2012-12-12T00:00:00   \n",
       "\n",
       "  Post Until      Posting Updated         Process Date  \n",
       "0        NaN  2011-06-24T00:00:00  2018-07-17T00:00:00  \n",
       "1        NaN  2012-01-26T00:00:00  2018-07-17T00:00:00  \n",
       "2        NaN  2012-09-07T00:00:00  2018-07-17T00:00:00  \n",
       "3        NaN  2012-09-07T00:00:00  2018-07-17T00:00:00  \n",
       "4        NaN  2012-12-13T00:00:00  2018-07-17T00:00:00  \n",
       "\n",
       "[5 rows x 28 columns]"
      ]
     },
     "execution_count": 2,
     "metadata": {},
     "output_type": "execute_result"
    }
   ],
   "source": [
    "# Load data\n",
    "df = pd.read_csv('./dataset/nyc-jobs-1.csv')\n",
    "# Check data\n",
    "df.head()"
   ]
  },
  {
   "cell_type": "markdown",
   "metadata": {},
   "source": [
    "Since head() fuction does not show all data, we check column names to retain only necessary variables."
   ]
  },
  {
   "cell_type": "code",
   "execution_count": 3,
   "metadata": {},
   "outputs": [
    {
     "data": {
      "text/plain": [
       "Index(['Job ID', 'Agency', 'Posting Type', '# Of Positions', 'Business Title',\n",
       "       'Civil Service Title', 'Title Code No', 'Level', 'Job Category',\n",
       "       'Full-Time/Part-Time indicator', 'Salary Range From', 'Salary Range To',\n",
       "       'Salary Frequency', 'Work Location', 'Division/Work Unit',\n",
       "       'Job Description', 'Minimum Qual Requirements', 'Preferred Skills',\n",
       "       'Additional Information', 'To Apply', 'Hours/Shift', 'Work Location 1',\n",
       "       'Recruitment Contact', 'Residency Requirement', 'Posting Date',\n",
       "       'Post Until', 'Posting Updated', 'Process Date'],\n",
       "      dtype='object')"
      ]
     },
     "execution_count": 3,
     "metadata": {},
     "output_type": "execute_result"
    }
   ],
   "source": [
    "# Show column name\n",
    "df.columns"
   ]
  },
  {
   "cell_type": "markdown",
   "metadata": {},
   "source": [
    "Keep only some columns to train the model"
   ]
  },
  {
   "cell_type": "code",
   "execution_count": 4,
   "metadata": {},
   "outputs": [
    {
     "data": {
      "text/html": [
       "<div>\n",
       "<style scoped>\n",
       "    .dataframe tbody tr th:only-of-type {\n",
       "        vertical-align: middle;\n",
       "    }\n",
       "\n",
       "    .dataframe tbody tr th {\n",
       "        vertical-align: top;\n",
       "    }\n",
       "\n",
       "    .dataframe thead th {\n",
       "        text-align: right;\n",
       "    }\n",
       "</style>\n",
       "<table border=\"1\" class=\"dataframe\">\n",
       "  <thead>\n",
       "    <tr style=\"text-align: right;\">\n",
       "      <th></th>\n",
       "      <th>Business Title</th>\n",
       "      <th>Job Description</th>\n",
       "      <th>Minimum Qual Requirements</th>\n",
       "      <th>Preferred Skills</th>\n",
       "    </tr>\n",
       "  </thead>\n",
       "  <tbody>\n",
       "    <tr>\n",
       "      <th>0</th>\n",
       "      <td>Account Manager</td>\n",
       "      <td>Division of Economic &amp; Financial Opportunity (...</td>\n",
       "      <td>1.\\tA baccalaureate degree from an accredited ...</td>\n",
       "      <td>â€¢\\tExcellent interpersonal and organizationa...</td>\n",
       "    </tr>\n",
       "    <tr>\n",
       "      <th>1</th>\n",
       "      <td>EXECUTIVE DIRECTOR, BUSINESS DEVELOPMENT</td>\n",
       "      <td>The New York City Department of Small Business...</td>\n",
       "      <td>1. A baccalaureate degree from an accredited c...</td>\n",
       "      <td></td>\n",
       "    </tr>\n",
       "    <tr>\n",
       "      <th>2</th>\n",
       "      <td>Project Specialist</td>\n",
       "      <td>Under direct supervision, perform elementary e...</td>\n",
       "      <td>A Baccalaureate degree from an accredited coll...</td>\n",
       "      <td></td>\n",
       "    </tr>\n",
       "    <tr>\n",
       "      <th>3</th>\n",
       "      <td>Project Specialist</td>\n",
       "      <td>Under direct supervision, perform elementary e...</td>\n",
       "      <td>A Baccalaureate degree from an accredited coll...</td>\n",
       "      <td></td>\n",
       "    </tr>\n",
       "    <tr>\n",
       "      <th>4</th>\n",
       "      <td>Deputy Plant Chief</td>\n",
       "      <td>Under general direction, is in responsible cha...</td>\n",
       "      <td>1. Six years of full-time satisfactory experie...</td>\n",
       "      <td></td>\n",
       "    </tr>\n",
       "  </tbody>\n",
       "</table>\n",
       "</div>"
      ],
      "text/plain": [
       "                             Business Title  \\\n",
       "0                           Account Manager   \n",
       "1  EXECUTIVE DIRECTOR, BUSINESS DEVELOPMENT   \n",
       "2                        Project Specialist   \n",
       "3                        Project Specialist   \n",
       "4                        Deputy Plant Chief   \n",
       "\n",
       "                                     Job Description  \\\n",
       "0  Division of Economic & Financial Opportunity (...   \n",
       "1  The New York City Department of Small Business...   \n",
       "2  Under direct supervision, perform elementary e...   \n",
       "3  Under direct supervision, perform elementary e...   \n",
       "4  Under general direction, is in responsible cha...   \n",
       "\n",
       "                           Minimum Qual Requirements  \\\n",
       "0  1.\\tA baccalaureate degree from an accredited ...   \n",
       "1  1. A baccalaureate degree from an accredited c...   \n",
       "2  A Baccalaureate degree from an accredited coll...   \n",
       "3  A Baccalaureate degree from an accredited coll...   \n",
       "4  1. Six years of full-time satisfactory experie...   \n",
       "\n",
       "                                    Preferred Skills  \n",
       "0  â€¢\\tExcellent interpersonal and organizationa...  \n",
       "1                                                     \n",
       "2                                                     \n",
       "3                                                     \n",
       "4                                                     "
      ]
     },
     "execution_count": 4,
     "metadata": {},
     "output_type": "execute_result"
    }
   ],
   "source": [
    "df =df[['Business Title', 'Job Description', 'Minimum Qual Requirements', 'Preferred Skills']]\n",
    "df.head()"
   ]
  },
  {
   "cell_type": "code",
   "execution_count": 5,
   "metadata": {},
   "outputs": [
    {
     "name": "stdout",
     "output_type": "stream",
     "text": [
      "                                                data\n",
      "0  Account Manager Division of Economic & Financi...\n",
      "1  EXECUTIVE DIRECTOR, BUSINESS DEVELOPMENT The N...\n",
      "2  Project Specialist Under direct supervision, p...\n",
      "3  Project Specialist Under direct supervision, p...\n",
      "4  Deputy Plant Chief Under general direction, is...\n"
     ]
    }
   ],
   "source": [
    "# Create a new column called 'data' and merge the values of the other columns into it\n",
    "df['data'] = df[['Business Title', 'Job Description', 'Minimum Qual Requirements', 'Preferred Skills']].apply(lambda x: ' '.join(x.dropna().astype(str)), axis=1)\n",
    "# Drop the individual columns if you no longer need them\n",
    "df.drop(['Business Title', 'Job Description', 'Minimum Qual Requirements', 'Preferred Skills'], axis=1, inplace=True)\n",
    "# Preview the updated dataframe\n",
    "print(df.head())"
   ]
  },
  {
   "cell_type": "markdown",
   "metadata": {},
   "source": [
    "#### 3. Tokenize data\n",
    "We tokenize the words in the 'data' column and tag them with unique identifiers using the TaggedDocument class."
   ]
  },
  {
   "cell_type": "code",
   "execution_count": 6,
   "metadata": {},
   "outputs": [],
   "source": [
    "import nltk\n",
    "# nltk.download('punktab')"
   ]
  },
  {
   "cell_type": "code",
   "execution_count": 7,
   "metadata": {
    "id": "sCAMBUD8Sorw"
   },
   "outputs": [],
   "source": [
    "# Tag data\n",
    "data = list(df['data'])\n",
    "tagged_data = [TaggedDocument(words = word_tokenize(_d.lower()), tags = [str(i)]) for i, _d in enumerate(data)]"
   ]
  },
  {
   "cell_type": "markdown",
   "metadata": {},
   "source": [
    "#### 4. Model initialization and vocabulary buiding\n",
    "Next, we initialize the Doc2Vec model with specific parameters.\n",
    "\n",
    "**Parameters** of Doc2Vec are as follows: \n",
    "\n",
    "- `vector_size`: Dimensionality of the feature vectors. Default: 100.\n",
    "- `window`: The window refers to the maximum distance between the target word and its context words within a sentence. Default: 5.\n",
    "- `min_count`: Ignores all words with a total frequency lower than this. Default: 5.\n",
    "- `epochs`: Number of iterations (epochs) over the corpus. Defaults to 5 for PV-DBOW and 10 for PV-DM.\n",
    "- `dm`: Defines the training algorithm. If `dm = 1`, the Distributed Memory (PV-DM) model is used. If `dm = 0`, the Distributed Bag of Words (PV-DBOW) model is used. Default: 1 (PV-DM).\n",
    "- `dbow_words`: If set to 1, trains word vectors (in addition to document vectors) using the PV-DBOW algorithm. Default: 0 (False).\n",
    "- `dm_mean`: If set to 1, uses the mean of the context word vectors instead of concatenation when inferring vectors in the PV-DM model. Default: 0 (False).\n",
    "- `dm_concat`: If set to 1, concatenates the document and context word vectors when inferring vectors in the PV-DM model. Default: 0 (False).\n",
    "- `dm_tag_count`: Expected number of document tags per document, when using the PV-DM algorithm. Default: 1.\n",
    "- `dbow_tag_count`: Expected number of document tags per document, when using the PV-DBOW algorithm. Default: 1.\n",
    "- `alpha`: The initial learning rate. Default: 0.025.\n",
    "- `min_alpha`: The learning rate will linearly drop to `min_alpha` as training progresses. Default: 0.0001.\n",
    "- `hs`: If set to 1, hierarchical softmax activation function will be used. Default: 0 (Negative Sampling).\n",
    "- `negative`: If > 0, negative sampling will be used, the int for negative specifies how many \"noise words\" should be drawn. Default: 5.\n",
    "- `ns_exponent`: The exponent used to shape the negative sampling distribution. Default: 0.75.\n"
   ]
  },
  {
   "cell_type": "code",
   "execution_count": 8,
   "metadata": {
    "id": "pN_H6onBTamK"
   },
   "outputs": [],
   "source": [
    "# Model initialization\n",
    "model = Doc2Vec(vector_size = 50,\n",
    "min_count = 5,\n",
    "epochs = 100,\n",
    "alpha = 0.001\n",
    ")"
   ]
  },
  {
   "cell_type": "code",
   "execution_count": 15,
   "metadata": {
    "id": "Sv_Mtx4OWFgF"
   },
   "outputs": [
    {
     "name": "stdout",
     "output_type": "stream",
     "text": [
      "8599\n"
     ]
    }
   ],
   "source": [
    "# Vocabulary building\n",
    "model.build_vocab(tagged_data)\n",
    "# Get the vocabulary keys\n",
    "keys = model.wv.key_to_index.keys()\n",
    "# Print the length of the vocabulary keys\n",
    "print(len(keys))"
   ]
  },
  {
   "cell_type": "markdown",
   "metadata": {},
   "source": [
    "#### 5. Train and save the model\n",
    "Train the model on tagged data."
   ]
  },
  {
   "cell_type": "code",
   "execution_count": null,
   "metadata": {
    "id": "0jwx4eNAWYrI"
   },
   "outputs": [
    {
     "name": "stdout",
     "output_type": "stream",
     "text": [
      "Training epoch 1/100\n",
      "Training epoch 2/100\n",
      "Training epoch 3/100\n",
      "Training epoch 4/100\n",
      "Training epoch 5/100\n",
      "Training epoch 6/100\n",
      "Training epoch 7/100\n",
      "Training epoch 8/100\n",
      "Training epoch 9/100\n",
      "Training epoch 10/100\n",
      "Training epoch 11/100\n"
     ]
    }
   ],
   "source": [
    "# Train the model\n",
    "for epoch in range(model.epochs):\n",
    "    print(f\"Training epoch {epoch+1}/{model.epochs}\")\n",
    "    model.train(tagged_data, \n",
    "                total_examples=model.corpus_count, \n",
    "                epochs=model.epochs)\n",
    "\n",
    "model.save('cv_job_maching.model')\n",
    "print(\"Model saved\")"
   ]
  }
 ],
 "metadata": {
  "colab": {
   "provenance": []
  },
  "kernelspec": {
   "display_name": "Python 3 (ipykernel)",
   "language": "python",
   "name": "python3"
  },
  "language_info": {
   "codemirror_mode": {
    "name": "ipython",
    "version": 3
   },
   "file_extension": ".py",
   "mimetype": "text/x-python",
   "name": "python",
   "nbconvert_exporter": "python",
   "pygments_lexer": "ipython3",
   "version": "3.11.10"
  }
 },
 "nbformat": 4,
 "nbformat_minor": 4
}
