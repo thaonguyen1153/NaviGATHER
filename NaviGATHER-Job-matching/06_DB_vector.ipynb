{
 "cells": [
  {
   "cell_type": "markdown",
   "id": "9ca258e9-ee2d-4f8a-8c08-997172d34699",
   "metadata": {},
   "source": [
    "# Using Vector DB\n",
    "\n",
    "Instead of saving the vector locally, try to write into vector DB.\n"
   ]
  },
  {
   "cell_type": "code",
   "execution_count": 2,
   "id": "ba225183-03f1-4355-8066-9a129a44c811",
   "metadata": {},
   "outputs": [],
   "source": [
    "import chromadb\n",
    "chroma_client = chromadb.Client()\n"
   ]
  },
  {
   "cell_type": "markdown",
   "id": "13fe4ba4-db69-48bb-8f84-5c132f14ee4a",
   "metadata": {},
   "source": [
    "Create collection"
   ]
  },
  {
   "cell_type": "code",
   "execution_count": 3,
   "id": "d2898b77-2b4d-490d-92bf-c61ba3da7a99",
   "metadata": {},
   "outputs": [],
   "source": [
    "collection = chroma_client.create_collection(name=\"jd_collection\")\n"
   ]
  },
  {
   "cell_type": "code",
   "execution_count": 4,
   "id": "cdc36a1d-7c72-47bd-8bde-cc829d04a772",
   "metadata": {},
   "outputs": [
    {
     "name": "stderr",
     "output_type": "stream",
     "text": [
      "C:\\Users\\nguye\\.cache\\chroma\\onnx_models\\all-MiniLM-L6-v2\\onnx.tar.gz: 100%|█████| 79.3M/79.3M [00:19<00:00, 4.26MiB/s]\n"
     ]
    }
   ],
   "source": [
    "collection.add(\n",
    "    documents=[\n",
    "        \"This is a document about pineapple\",\n",
    "        \"This is a document about oranges\"\n",
    "    ],\n",
    "    ids=[\"id1\", \"id2\"]\n",
    ")\n"
   ]
  },
  {
   "cell_type": "code",
   "execution_count": 9,
   "id": "c7c2272b-bb57-4b68-b845-88a38515c418",
   "metadata": {},
   "outputs": [
    {
     "name": "stdout",
     "output_type": "stream",
     "text": [
      "{'ids': [['id1', 'id2']], 'embeddings': None, 'documents': [['This is a document about pineapple', 'This is a document about oranges']], 'uris': None, 'data': None, 'metadatas': [[None, None]], 'distances': [[1.0404009819030762, 1.2430799007415771]], 'included': [<IncludeEnum.distances: 'distances'>, <IncludeEnum.documents: 'documents'>, <IncludeEnum.metadatas: 'metadatas'>]}\n"
     ]
    }
   ],
   "source": [
    "results = collection.query(\n",
    "    query_texts=[\"This is a query document about hawaii\"], # Chroma will embed this for you\n",
    "    n_results=2 # how many results to return\n",
    ")\n",
    "print(results)\n"
   ]
  },
  {
   "cell_type": "code",
   "execution_count": null,
   "id": "d1c3c702-f530-4898-bb64-b801cc058ad1",
   "metadata": {},
   "outputs": [],
   "source": []
  }
 ],
 "metadata": {
  "kernelspec": {
   "display_name": "Python 3 (ipykernel)",
   "language": "python",
   "name": "python3"
  },
  "language_info": {
   "codemirror_mode": {
    "name": "ipython",
    "version": 3
   },
   "file_extension": ".py",
   "mimetype": "text/x-python",
   "name": "python",
   "nbconvert_exporter": "python",
   "pygments_lexer": "ipython3",
   "version": "3.12.3"
  }
 },
 "nbformat": 4,
 "nbformat_minor": 5
}
