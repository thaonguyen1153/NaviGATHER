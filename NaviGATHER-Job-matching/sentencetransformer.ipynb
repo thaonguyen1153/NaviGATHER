{
 "cells": [
  {
   "cell_type": "markdown",
   "id": "9b3f7695-4d26-4edd-a763-797b01e1638d",
   "metadata": {},
   "source": [
    "# Using Huggingface\n",
    "\n",
    "https://huggingface.co/sentence-transformers/all-MiniLM-L6-v2"
   ]
  },
  {
   "cell_type": "code",
   "execution_count": 1,
   "id": "d7b83205-4d44-477a-943c-302b03d8b89b",
   "metadata": {},
   "outputs": [
    {
     "ename": "ModuleNotFoundError",
     "evalue": "No module named 'sentence_transformers'",
     "output_type": "error",
     "traceback": [
      "\u001b[1;31m---------------------------------------------------------------------------\u001b[0m",
      "\u001b[1;31mModuleNotFoundError\u001b[0m                       Traceback (most recent call last)",
      "Cell \u001b[1;32mIn[1], line 1\u001b[0m\n\u001b[1;32m----> 1\u001b[0m \u001b[38;5;28;01mfrom\u001b[39;00m \u001b[38;5;21;01msentence_transformers\u001b[39;00m \u001b[38;5;28;01mimport\u001b[39;00m SentenceTransformer, util\n\u001b[0;32m      3\u001b[0m model \u001b[38;5;241m=\u001b[39m SentenceTransformer(\u001b[38;5;124m'\u001b[39m\u001b[38;5;124mflax-sentence-embeddings/all_datasets_v4_MiniLM-L6\u001b[39m\u001b[38;5;124m'\u001b[39m)\n",
      "\u001b[1;31mModuleNotFoundError\u001b[0m: No module named 'sentence_transformers'"
     ]
    }
   ],
   "source": [
    "from sentence_transformers import SentenceTransformer, util\n",
    "\n",
    "model = SentenceTransformer('flax-sentence-embeddings/all_datasets_v4_MiniLM-L6')\n"
   ]
  },
  {
   "cell_type": "markdown",
   "id": "8bb2d907-8159-48d2-bb2d-c665021f5c81",
   "metadata": {},
   "source": [
    "### Supporting functions"
   ]
  },
  {
   "cell_type": "code",
   "execution_count": 31,
   "id": "a5a25366-9eaf-4cf0-919f-69cd2b24d7b0",
   "metadata": {},
   "outputs": [],
   "source": [
    "import PyPDF2\n",
    "def read_jd_file(filename):\n",
    "    \"\"\"Program to read the entire file (absolute path) using read() function\"\"\"\n",
    "    file = open(filename, \"r\")\n",
    "    content = file.read()\n",
    "    file.close()\n",
    "    return content\n",
    "\n",
    "def read_resume_text(pdffile):\n",
    "    \"\"\"Read PDF file ans=d parse as text\"\"\"\n",
    "    pdf = PyPDF2.PdfReader(pdffile)\n",
    "    resume = \"\"\n",
    "\n",
    "    for i in range(len(pdf.pages)):\n",
    "        pageObj = pdf.pages[i]\n",
    "        resume += pageObj.extract_text()\n",
    "    return resume"
   ]
  },
  {
   "cell_type": "markdown",
   "id": "1b3cb78e-5683-43de-8aaf-37622e9e2182",
   "metadata": {},
   "source": [
    "## Comparing the similarity between the JDs"
   ]
  },
  {
   "cell_type": "code",
   "execution_count": 26,
   "id": "84bc2d18-0d5c-47d2-85cc-b1fb3ca69659",
   "metadata": {},
   "outputs": [],
   "source": [
    "jd_1 = read_jd_file(\"./../CV-Job-matching-main/JD/jd_database analyst_1.txt\")\n",
    "jd_2 = read_jd_file(\"./../CV-Job-matching-main/JD/jd_Oracle DBA_2.txt\")\n",
    "jd_3 = read_jd_file(\"./../CV-Job-matching-main/JD/jd_Oracle DBA_3.txt\")\n",
    "\n",
    "sentences = [jd_1,jd_2,jd_3]\n",
    "# into vector\n",
    "embeddings = model.encode(sentences)\n",
    "# compute cosine similarity\n",
    "cos_sim = util.cos_sim(embeddings, embeddings)"
   ]
  },
  {
   "cell_type": "code",
   "execution_count": 21,
   "id": "9bc0f673-8729-4b10-90fd-258ed9ca7003",
   "metadata": {},
   "outputs": [
    {
     "name": "stdout",
     "output_type": "stream",
     "text": [
      "Sentence pair similar range: \n",
      "Comparing JD 1 with JD 2 get Score: 69%\n",
      "Comparing JD 0 with JD 2 get Score: 53%\n",
      "Comparing JD 0 with JD 1 get Score: 42%\n"
     ]
    }
   ],
   "source": [
    "# add all pairs to a list with their cosim similarity\n",
    "all_sentence_combination = []\n",
    "for i in range(len(cos_sim)-1):\n",
    "    for j in range(i+1, len(cos_sim)):\n",
    "        all_sentence_combination.append([cos_sim[i][j],i,j])\n",
    "\n",
    "# sort list\n",
    "all_sentence_combination = sorted(all_sentence_combination, key=lambda x: x[0], reverse=True)\n",
    "\n",
    "print('Sentence pair similar range: ')\n",
    "for score, i, j in all_sentence_combination:\n",
    "    print(f'Comparing JD {i} with JD {j} get Score: {format(cos_sim[i][j],\".0%\")}')"
   ]
  },
  {
   "cell_type": "markdown",
   "id": "dbc51491-33b3-4451-baee-406c3c3295e3",
   "metadata": {},
   "source": [
    "## Comparing the CV with each of the JD"
   ]
  },
  {
   "cell_type": "code",
   "execution_count": 32,
   "id": "1533ec76-45a3-4330-82d3-3eef72e3d76a",
   "metadata": {},
   "outputs": [],
   "source": [
    "jd_1 = read_jd_file(\"./../CV-Job-matching-main/JD/jd_database analyst_1.txt\")\n",
    "jd_2 = read_jd_file(\"./../CV-Job-matching-main/JD/jd_Oracle DBA_2.txt\")\n",
    "jd_3 = read_jd_file(\"./../CV-Job-matching-main/JD/jd_Oracle DBA_3.txt\")\n",
    "\n",
    "cv1 = read_resume_text(\"./../CV-Job-matching-main/CV/Akshay_Srimatrix.pdf\")\n",
    "sentences = [cv1, jd_1,jd_2,jd_3]\n",
    "# into vector\n",
    "embeddings = model.encode(sentences)\n",
    "# compute cosine similarity\n",
    "cos_sim = util.cos_sim(embeddings, embeddings)"
   ]
  },
  {
   "cell_type": "code",
   "execution_count": 36,
   "id": "8b40f676-76b3-4d13-8376-568d28eee968",
   "metadata": {},
   "outputs": [
    {
     "name": "stdout",
     "output_type": "stream",
     "text": [
      "Sentence pair similar range: \n",
      "Comparing CV with JD 1 get Score: 63%\n",
      "Comparing CV with JD 2 get Score: 54%\n",
      "Comparing CV with JD 0 get Score: 33%\n"
     ]
    }
   ],
   "source": [
    "# add all pairs to a list with their cosim similarity\n",
    "all_sentence_combination = []\n",
    "for i in range(len(cos_sim)):\n",
    "    all_sentence_combination.append([cos_sim[0][i],i])\n",
    "\n",
    "# sort list\n",
    "all_sentence_combination = sorted(all_sentence_combination, key=lambda x: x[0], reverse=True)\n",
    "\n",
    "print('Sentence pair similar range: ')\n",
    "for score, i in all_sentence_combination:\n",
    "    if (i>0):\n",
    "        print(f'Comparing CV with JD {i-1} get Score: {format(cos_sim[0][i],\".0%\")}')"
   ]
  },
  {
   "cell_type": "code",
   "execution_count": null,
   "id": "9ed56fe6-1962-4b6a-9c92-5c3f047e195e",
   "metadata": {},
   "outputs": [],
   "source": [
    "def matching_score_visualization(similarity):\n",
    "    fig = go.Figure(go.Indicator(\n",
    "        domain = {'x': [0, 1], 'y': [0, 1]},\n",
    "        value = similarity,\n",
    "        mode = \"gauge+number\",\n",
    "        title = {'text': \"Matching percentage (%)\"},\n",
    "        #delta = {'reference': 100},\n",
    "        gauge = {\n",
    "            'axis': {'range': [0, 100]},\n",
    "            'steps' : [\n",
    "                {'range': [0, 50], 'color': \"#FFB6C1\"},\n",
    "                {'range': [50, 70], 'color': \"#FFFFE0\"},\n",
    "                {'range': [70, 100], 'color': \"#90EE90\"}\n",
    "            ],\n",
    "                 'threshold' : {'line': {'color': \"red\", 'width': 4}, 'thickness': 0.75, 'value': 100}}))\n",
    "    \n",
    "    fig.update_layout(width=600, height=400)  # Adjust the width and height as desired\n",
    "    fig.show()\n",
    "    # Print notification\n",
    "    if similarity < 50:\n",
    "        print(colored(\"Low chance, need to modify your CV!\", \"red\", attrs=[\"bold\"]))\n",
    "    elif similarity >= 50 and similarity < 70:\n",
    "        print(colored(\"Good chance but you can improve further!\", \"yellow\", attrs=[\"bold\"]))\n",
    "    else:\n",
    "        print(colored(\"Excellent! You can submit your CV.\", \"green\", attrs=[\"bold\"]))\n",
    "\n",
    "for score, i in all_sentence_combination:\n",
    "    if (i>0):\n",
    "        print(f'Comparing CV with JD {i-1} get Score: {format(cos_sim[0][i],\".0%\")}')\n",
    "        matching_score_visualization(format(cos_sim[0][i],\".0%\"))"
   ]
  }
 ],
 "metadata": {
  "kernelspec": {
   "display_name": "Python 3 (ipykernel)",
   "language": "python",
   "name": "python3"
  },
  "language_info": {
   "codemirror_mode": {
    "name": "ipython",
    "version": 3
   },
   "file_extension": ".py",
   "mimetype": "text/x-python",
   "name": "python",
   "nbconvert_exporter": "python",
   "pygments_lexer": "ipython3",
   "version": "3.12.3"
  }
 },
 "nbformat": 4,
 "nbformat_minor": 5
}
